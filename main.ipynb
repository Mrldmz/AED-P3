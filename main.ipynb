{
 "cells": [
  {
   "cell_type": "markdown",
   "id": "361fd654",
   "metadata": {},
   "source": [
    "# AED - Proyecto III\n",
    "\n",
    "**Autores:**\n",
    "- Leopoldo Muñoz\n",
    "- Valentina Yáñez\n",
    "\n",
    "---"
   ]
  },
  {
   "cell_type": "code",
   "execution_count": 2,
   "id": "92e5e775",
   "metadata": {},
   "outputs": [],
   "source": [
    "# Configuración inicial\n",
    "import warnings\n",
    "warnings.filterwarnings('ignore')\n",
    "\n",
    "# Configurar pandas para mostrar más columnas y filas\n",
    "import pandas as pd\n",
    "pd.set_option('display.max_columns', None)\n",
    "pd.set_option('display.width', None)\n",
    "pd.set_option('display.max_colwidth', None)\n",
    "\n",
    "# Configurar matplotlib para mejores gráficos\n",
    "import matplotlib.pyplot as plt\n",
    "plt.style.use('default')\n",
    "plt.rcParams['figure.figsize'] = (10, 6)\n",
    "plt.rcParams['font.size'] = 12\n",
    "\n"
   ]
  },
  {
   "cell_type": "markdown",
   "id": "85ea96e5",
   "metadata": {},
   "source": [
    "## Contexto\n",
    "\n",
    "La información utilizada en este proyecto proviene del UCI Machine Learning Repository y fue recopilada en el año 2018. El objetivo principal del dataset es predecir la intención de compra de los usuarios durante sus sesiones de navegación en una tienda en línea. Los datos se recolectaron en tiempo real mediante analítica web (Google Analytics) y se respetó que cada fila represente un usuario diferente, evitando la dependencia temporal entre sesiones.\n",
    "\n",
    "El conjunto de datos contiene 12,330 registros, cada uno representando una sesión única de usuario. Presenta un balance de clases donde el 84.5% de las sesiones no terminan en compra y el 15.5% sí lo hacen. El período de observación abarca un año completo, lo que permite evitar sesgos relacionados con campañas o eventos específicos.\n",
    "\n",
    "Se considera útil para aplicar técnicas de clasificación, detección de outliers y clustering no supervisado.\n",
    "\n",
    "## Estructura general\n",
    "\n",
    "| Tipo             | Cantidad                |\n",
    "|------------------|------------------------|\n",
    "| Instancias       | 12,330                 |\n",
    "| Atributos        | 18                     |\n",
    "| Atributo clase   | 1 (Revenue)            |\n",
    "| Tipo de datos    | Mixto (numérico y categórico) |\n",
    "| Valores faltantes| No                     |\n",
    "\n",
    "\n",
    "## Atributos\n",
    "\n",
    "| Atributo                  | Tipo        | Descripción                                                                                   |\n",
    "|---------------------------|-------------|-----------------------------------------------------------------------------------------------|\n",
    "| Administrative            | Entero      | N.º de páginas administrativas visitadas (como política de privacidad, contactos, etc.).      |\n",
    "| Administrative_Duration   | Real        | Tiempo total (segundos) en páginas administrativas.                                           |\n",
    "| Informational             | Entero      | N.º de páginas informativas (por ejemplo, ayuda o preguntas frecuentes).                      |\n",
    "| Informational_Duration    | Real        | Tiempo total en páginas informativas.                                                         |\n",
    "| ProductRelated            | Entero      | N.º de páginas de productos visitadas.                                                        |\n",
    "| ProductRelated_Duration   | Real        | Tiempo total en páginas de productos.                                                         |\n",
    "| BounceRates               | Real        | Porcentaje de usuarios que abandonan el sitio tras visitar solo una página.                   |\n",
    "| ExitRates                 | Real        | Porcentaje de veces que una página fue la última visitada en la sesión.                       |\n",
    "| PageValues                | Real        | Valor promedio de las páginas visitadas antes de una conversión.                              |\n",
    "| SpecialDay                | Real        | Proximidad a fechas especiales (por ejemplo, Día de San Valentín), valores de 0 a 1.          |\n",
    "| Month                     | Categórico  | Mes de la visita (por ejemplo, \"Feb\", \"Mar\").                                                 |\n",
    "| OperatingSystems          | Entero  | Sistema operativo utilizado.                                                                  |\n",
    "| Browser                   | Entero  | Navegador web utilizado.                                                                      |\n",
    "| Region                    | Entero  | Región geográfica del usuario.                                                                |\n",
    "| TrafficType               | Entero  | Tipo de tráfico de la sesión (directo, referido, etc.).                                       |\n",
    "| VisitorType               | Categórico  | Visitante nuevo, recurrente u otro.                                                           |\n",
    "| Weekend                   | Booleano    | Si la visita fue durante el fin de semana (TRUE o FALSE).                                     |\n",
    "| Revenue                   | Booleano    | Variable objetivo. Si la sesión terminó en compra (TRUE) o no (FALSE).                        |\n",
    "\n",
    "**Observaciones:**\n",
    "\n",
    "- Como el dataset trae una característica objetivo, esta se debería eliminar para un entrenamiento no supervisado, pero puede ser útil más adelante para evaluar resultados.\n",
    "- Las características enteras `OperatingSystems`, `Browser`, `Region` y `TrafficType` representan en realidad enumeraciones categóricas, por lo que se debe decidir una manera de transformarlas, interpretarlas o incluso eliminarlas.\n"
   ]
  }
 ],
 "metadata": {
  "kernelspec": {
   "display_name": ".venv",
   "language": "python",
   "name": "python3"
  },
  "language_info": {
   "codemirror_mode": {
    "name": "ipython",
    "version": 3
   },
   "file_extension": ".py",
   "mimetype": "text/x-python",
   "name": "python",
   "nbconvert_exporter": "python",
   "pygments_lexer": "ipython3",
   "version": "3.13.1"
  }
 },
 "nbformat": 4,
 "nbformat_minor": 5
}
